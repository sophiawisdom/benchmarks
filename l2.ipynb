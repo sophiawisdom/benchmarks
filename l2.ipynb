{
 "cells": [
  {
   "cell_type": "code",
   "execution_count": 5,
   "metadata": {},
   "outputs": [
    {
     "name": "stderr",
     "output_type": "stream",
     "text": [
      "Using /root/.cache/torch_extensions/py310_cu121 as PyTorch extensions root...\n",
      "The input conditions for extension module bench_l2 have changed. Bumping to version 1 and re-building as bench_l2_v1...\n",
      "Detected CUDA files, patching ldflags\n",
      "Emitting ninja build file /root/.cache/torch_extensions/py310_cu121/bench_l2/build.ninja...\n",
      "Building extension module bench_l2_v1...\n",
      "Allowing ninja to set a default number of workers... (overridable by setting the environment variable MAX_JOBS=N)\n"
     ]
    },
    {
     "name": "stdout",
     "output_type": "stream",
     "text": [
      "[1/3] /usr/local/cuda/bin/nvcc --generate-dependencies-with-compile --dependency-output l2_partitions.cuda.o.d -DTORCH_EXTENSION_NAME=bench_l2_v1 -DTORCH_API_INCLUDE_EXTENSION_H -DPYBIND11_COMPILER_TYPE=\\\"_gcc\\\" -DPYBIND11_STDLIB=\\\"_libstdcpp\\\" -DPYBIND11_BUILD_ABI=\\\"_cxxabi1011\\\" -isystem /usr/local/lib/python3.10/dist-packages/torch/include -isystem /usr/local/lib/python3.10/dist-packages/torch/include/torch/csrc/api/include -isystem /usr/local/lib/python3.10/dist-packages/torch/include/TH -isystem /usr/local/lib/python3.10/dist-packages/torch/include/THC -isystem /usr/local/cuda/include -isystem /usr/include/python3.10 -D_GLIBCXX_USE_CXX11_ABI=0 -D__CUDA_NO_HALF_OPERATORS__ -D__CUDA_NO_HALF_CONVERSIONS__ -D__CUDA_NO_BFLOAT16_CONVERSIONS__ -D__CUDA_NO_HALF2_OPERATORS__ --expt-relaxed-constexpr -gencode=arch=compute_80,code=compute_80 -gencode=arch=compute_80,code=sm_80 --compiler-options '-fPIC' -arch=sm_89 --keep --keep-dir /workspace/benchmarks/temp -std=c++17 -c /workspace/benchmarks/l2_partitions.cu -o l2_partitions.cuda.o \n",
      "/workspace/benchmarks/l2_partitions.cu(100): warning #1143-D: arithmetic on pointer to void or function type\n",
      "          asm volatile(\"ld.global.cg.u64 %0, [%1];\" : \"=l\"(value) : \"l\"(void_scratchpad+write_idx*8));\n",
      "                                                                                       ^\n",
      "\n",
      "Remark: The warnings can be suppressed with \"-diag-suppress <warning-number>\"\n",
      "\n",
      "/workspace/benchmarks/l2_partitions.cu(101): warning #1143-D: arithmetic on pointer to void or function type\n",
      "          asm volatile(\"st.cg.global.u64 [%0], %1;\" :: \"l\"(void_scratchpad+read_idx*8), \"l\"(value ^ curand(&state)));\n",
      "                                                                          ^\n",
      "\n",
      "/workspace/benchmarks/l2_partitions.cu(130): warning #1143-D: arithmetic on pointer to void or function type\n",
      "          void *new_scratchpad = base_scratchpad+8192*smid;\n",
      "                                                ^\n",
      "\n",
      "/workspace/benchmarks/l2_partitions.cu(131): warning #1143-D: arithmetic on pointer to void or function type\n",
      "          void *other_sm_scratchpad = base_scratchpad+8192*other_sm+tidx*4;\n",
      "                                                     ^\n",
      "\n",
      "/workspace/benchmarks/l2_partitions.cu(131): warning #1143-D: arithmetic on pointer to void or function type\n",
      "          void *other_sm_scratchpad = base_scratchpad+8192*other_sm+tidx*4;\n",
      "                                                                   ^\n",
      "\n",
      "/workspace/benchmarks/l2_partitions.cu(135): warning #1143-D: arithmetic on pointer to void or function type\n",
      "              asm volatile(\"st.cg.global.u32 [%0], %1;\" :: \"l\"(new_scratchpad+((threadIdx.x)%32)*4), \"r\"(curand(&state)));\n",
      "                                                                             ^\n",
      "\n",
      "/workspace/benchmarks/l2_partitions.cu(143): warning #1143-D: arithmetic on pointer to void or function type\n",
      "                  asm volatile(\"ld.global.cg.u32 %0, [%1];\" : \"=r\"(value) : \"l\"(new_scratchpad+tidx*4));\n",
      "                                                                                              ^\n",
      "\n",
      "/workspace/benchmarks/l2_partitions.cu(100): warning #1143-D: arithmetic on pointer to void or function type\n",
      "          asm volatile(\"ld.global.cg.u64 %0, [%1];\" : \"=l\"(value) : \"l\"(void_scratchpad+write_idx*8));\n",
      "                                                                                       ^\n",
      "\n",
      "Remark: The warnings can be suppressed with \"-diag-suppress <warning-number>\"\n",
      "\n",
      "/workspace/benchmarks/l2_partitions.cu(101): warning #1143-D: arithmetic on pointer to void or function type\n",
      "          asm volatile(\"st.cg.global.u64 [%0], %1;\" :: \"l\"(void_scratchpad+read_idx*8), \"l\"(value ^ curand(&state)));\n",
      "                                                                          ^\n",
      "\n",
      "/workspace/benchmarks/l2_partitions.cu(94): warning #177-D: variable \"num_iters\" was declared but never referenced\n",
      "      constexpr int num_iters = l2_scratchpad_size/bytes_per_iter;\n",
      "                    ^\n",
      "\n",
      "/workspace/benchmarks/l2_partitions.cu(130): warning #1143-D: arithmetic on pointer to void or function type\n",
      "          void *new_scratchpad = base_scratchpad+8192*smid;\n",
      "                                                ^\n",
      "\n",
      "/workspace/benchmarks/l2_partitions.cu(131): warning #1143-D: arithmetic on pointer to void or function type\n",
      "          void *other_sm_scratchpad = base_scratchpad+8192*other_sm+tidx*4;\n",
      "                                                     ^\n",
      "\n",
      "/workspace/benchmarks/l2_partitions.cu(131): warning #1143-D: arithmetic on pointer to void or function type\n",
      "          void *other_sm_scratchpad = base_scratchpad+8192*other_sm+tidx*4;\n",
      "                                                                   ^\n",
      "\n",
      "/workspace/benchmarks/l2_partitions.cu(135): warning #1143-D: arithmetic on pointer to void or function type\n",
      "              asm volatile(\"st.cg.global.u32 [%0], %1;\" :: \"l\"(new_scratchpad+((threadIdx.x)%32)*4), \"r\"(curand(&state)));\n",
      "                                                                             ^\n",
      "\n",
      "/workspace/benchmarks/l2_partitions.cu(143): warning #1143-D: arithmetic on pointer to void or function type\n",
      "                  asm volatile(\"ld.global.cg.u32 %0, [%1];\" : \"=r\"(value) : \"l\"(new_scratchpad+tidx*4));\n",
      "                                                                                              ^\n",
      "\n",
      "/workspace/benchmarks/l2_partitions.cu(141): warning #550-D: variable \"value\" was set but never used\n",
      "                  unsigned int value;\n",
      "                               ^\n",
      "\n",
      "/workspace/benchmarks/l2_partitions.cu(142): warning #177-D: variable \"rot_tidx\" was declared but never referenced\n",
      "                  int rot_tidx = ((threadIdx.x+16)%32);\n",
      "                      ^\n",
      "\n",
      "/workspace/benchmarks/l2_partitions.cu(158): warning #177-D: variable \"sum\" was declared but never referenced\n",
      "                  unsigned int sum;\n",
      "                               ^\n",
      "\n",
      "/workspace/benchmarks/l2_partitions.cu(100): warning #1143-D: arithmetic on pointer to void or function type\n",
      "          asm volatile(\"ld.global.cg.u64 %0, [%1];\" : \"=l\"(value) : \"l\"(void_scratchpad+write_idx*8));\n",
      "                                                                                       ^\n",
      "\n",
      "Remark: The warnings can be suppressed with \"-diag-suppress <warning-number>\"\n",
      "\n",
      "/workspace/benchmarks/l2_partitions.cu(101): warning #1143-D: arithmetic on pointer to void or function type\n",
      "          asm volatile(\"st.cg.global.u64 [%0], %1;\" :: \"l\"(void_scratchpad+read_idx*8), \"l\"(value ^ curand(&state)));\n",
      "                                                                          ^\n",
      "\n",
      "/workspace/benchmarks/l2_partitions.cu(94): warning #177-D: variable \"num_iters\" was declared but never referenced\n",
      "      constexpr int num_iters = l2_scratchpad_size/bytes_per_iter;\n",
      "                    ^\n",
      "\n",
      "/workspace/benchmarks/l2_partitions.cu(130): warning #1143-D: arithmetic on pointer to void or function type\n",
      "          void *new_scratchpad = base_scratchpad+8192*smid;\n",
      "                                                ^\n",
      "\n",
      "/workspace/benchmarks/l2_partitions.cu(131): warning #1143-D: arithmetic on pointer to void or function type\n",
      "          void *other_sm_scratchpad = base_scratchpad+8192*other_sm+tidx*4;\n",
      "                                                     ^\n",
      "\n",
      "/workspace/benchmarks/l2_partitions.cu(131): warning #1143-D: arithmetic on pointer to void or function type\n",
      "          void *other_sm_scratchpad = base_scratchpad+8192*other_sm+tidx*4;\n",
      "                                                                   ^\n",
      "\n",
      "/workspace/benchmarks/l2_partitions.cu(135): warning #1143-D: arithmetic on pointer to void or function type\n",
      "              asm volatile(\"st.cg.global.u32 [%0], %1;\" :: \"l\"(new_scratchpad+((threadIdx.x)%32)*4), \"r\"(curand(&state)));\n",
      "                                                                             ^\n",
      "\n",
      "/workspace/benchmarks/l2_partitions.cu(143): warning #1143-D: arithmetic on pointer to void or function type\n",
      "                  asm volatile(\"ld.global.cg.u32 %0, [%1];\" : \"=r\"(value) : \"l\"(new_scratchpad+tidx*4));\n",
      "                                                                                              ^\n",
      "\n",
      "/workspace/benchmarks/l2_partitions.cu(141): warning #550-D: variable \"value\" was set but never used\n",
      "                  unsigned int value;\n",
      "                               ^\n",
      "\n",
      "/workspace/benchmarks/l2_partitions.cu(142): warning #177-D: variable \"rot_tidx\" was declared but never referenced\n",
      "                  int rot_tidx = ((threadIdx.x+16)%32);\n",
      "                      ^\n",
      "\n",
      "/workspace/benchmarks/l2_partitions.cu(158): warning #177-D: variable \"sum\" was declared but never referenced\n",
      "                  unsigned int sum;\n",
      "                               ^\n",
      "\n",
      "[2/3] c++ -MMD -MF l2.o.d -DTORCH_EXTENSION_NAME=bench_l2_v1 -DTORCH_API_INCLUDE_EXTENSION_H -DPYBIND11_COMPILER_TYPE=\\\"_gcc\\\" -DPYBIND11_STDLIB=\\\"_libstdcpp\\\" -DPYBIND11_BUILD_ABI=\\\"_cxxabi1011\\\" -isystem /usr/local/lib/python3.10/dist-packages/torch/include -isystem /usr/local/lib/python3.10/dist-packages/torch/include/torch/csrc/api/include -isystem /usr/local/lib/python3.10/dist-packages/torch/include/TH -isystem /usr/local/lib/python3.10/dist-packages/torch/include/THC -isystem /usr/local/cuda/include -isystem /usr/include/python3.10 -D_GLIBCXX_USE_CXX11_ABI=0 -fPIC -std=c++17 -c /workspace/benchmarks/l2.cpp -o l2.o \n",
      "[3/3] c++ l2.o l2_partitions.cuda.o -shared -L/usr/local/lib/python3.10/dist-packages/torch/lib -lc10 -lc10_cuda -ltorch_cpu -ltorch_cuda -ltorch -ltorch_python -L/usr/local/cuda/lib64 -lcudart -o bench_l2_v1.so\n",
      "<module 'bench_l2_v1' from '/root/.cache/torch_extensions/py310_cu121/bench_l2/bench_l2_v1.so'>\n",
      "about to create graph!\n",
      "about to create nodes!\n",
      "about to launch graph!\n"
     ]
    },
    {
     "name": "stderr",
     "output_type": "stream",
     "text": [
      "Loading extension module bench_l2_v1...\n"
     ]
    }
   ],
   "source": [
    "from torch.utils.cpp_extension import load\n",
    "import time\n",
    "bench_l2 = load(name=\"bench_l2\", sources=[\"l2.cpp\", \"l2_partitions.cu\"], extra_cuda_cflags=[\"-arch=sm_89\", \"--keep\", \"--keep-dir\", \"/workspace/benchmarks/temp\"], verbose=True)\n",
    "print(bench_l2)\n",
    "global_results, local_results = bench_l2.bench(0, 108, 128, 1)"
   ]
  },
  {
   "cell_type": "code",
   "execution_count": 6,
   "metadata": {},
   "outputs": [
    {
     "data": {
      "image/png": "[encoded data removed]",
      "text/plain": [
       "<Figure size 1000x1000 with 2 Axes>"
      ]
     },
     "metadata": {},
     "output_type": "display_data"
    }
   ],
   "source": [
    "import matplotlib.pyplot as plt\n",
    "import torch\n",
    "\n",
    "summed_results = local_results.to(torch.int64).sum(axis=3).sum(axis=0) # sum b/w iterations and warps\n",
    "\n",
    "# for i in range(local_results.shape[0]):\n",
    "    # Create the heatmap\n",
    "plt.figure(figsize=(10, 10))  # Adjust the figure size as needed\n",
    "plt.imshow(local_results.sum(axis=0).to(torch.int64).sum(axis=2).numpy(), cmap='viridis')  # Choose a colormap that fits your preference\n",
    "plt.colorbar()  # Adds a colorbar to the side\n",
    "plt.title('between-SM L2 access latency')\n",
    "plt.show()"
   ]
  },
  {
   "cell_type": "code",
   "execution_count": null,
   "metadata": {},
   "outputs": [],
   "source": [
    "summed_results[0]\n"
   ]
  },
  {
   "cell_type": "code",
   "execution_count": null,
   "metadata": {},
   "outputs": [],
   "source": [
    "summed_results[:, 1]"
   ]
  },
  {
   "cell_type": "code",
   "execution_count": null,
   "metadata": {},
   "outputs": [],
   "source": [
    "(local_results.sum(axis=3) == 192).sum()"
   ]
  },
  {
   "cell_type": "code",
   "execution_count": 2,
   "metadata": {},
   "outputs": [
    {
     "name": "stdout",
     "output_type": "stream",
     "text": [
      "Collecting matplotlib\n",
      "  Downloading matplotlib-3.9.0-cp310-cp310-manylinux_2_17_x86_64.manylinux2014_x86_64.whl.metadata (11 kB)\n",
      "Collecting ninja[global]\n",
      "  Downloading ninja-1.11.1.1-py2.py3-none-manylinux1_x86_64.manylinux_2_5_x86_64.whl.metadata (5.3 kB)\n",
      "Collecting contourpy>=1.0.1 (from matplotlib)\n",
      "  Downloading contourpy-1.2.1-cp310-cp310-manylinux_2_17_x86_64.manylinux2014_x86_64.whl.metadata (5.8 kB)\n",
      "Collecting cycler>=0.10 (from matplotlib)\n",
      "  Downloading cycler-0.12.1-py3-none-any.whl.metadata (3.8 kB)\n",
      "Collecting fonttools>=4.22.0 (from matplotlib)\n",
      "  Downloading fonttools-4.52.4-cp310-cp310-manylinux_2_17_x86_64.manylinux2014_x86_64.whl.metadata (161 kB)\n",
      "\u001b[2K     \u001b[90m━━━━━━━━━━━━━━━━━━━━━━━━━━━━━━━━━━━━━━\u001b[0m \u001b[32m161.7/161.7 kB\u001b[0m \u001b[31m14.1 MB/s\u001b[0m eta \u001b[36m0:00:00\u001b[0m\n",
      "\u001b[?25hCollecting kiwisolver>=1.3.1 (from matplotlib)\n",
      "  Downloading kiwisolver-1.4.5-cp310-cp310-manylinux_2_12_x86_64.manylinux2010_x86_64.whl.metadata (6.4 kB)\n",
      "Requirement already satisfied: numpy>=1.23 in /usr/local/lib/python3.10/dist-packages (from matplotlib) (1.26.3)\n",
      "Requirement already satisfied: packaging>=20.0 in /usr/local/lib/python3.10/dist-packages (from matplotlib) (23.2)\n",
      "Requirement already satisfied: pillow>=8 in /usr/local/lib/python3.10/dist-packages (from matplotlib) (10.2.0)\n",
      "Requirement already satisfied: pyparsing>=2.3.1 in /usr/lib/python3/dist-packages (from matplotlib) (2.4.7)\n",
      "Requirement already satisfied: python-dateutil>=2.7 in /usr/local/lib/python3.10/dist-packages (from matplotlib) (2.8.2)\n",
      "\u001b[33mWARNING: ninja 1.11.1.1 does not provide the extra 'global'\u001b[0m\u001b[33m\n",
      "\u001b[0mRequirement already satisfied: six>=1.5 in /usr/lib/python3/dist-packages (from python-dateutil>=2.7->matplotlib) (1.16.0)\n",
      "Downloading matplotlib-3.9.0-cp310-cp310-manylinux_2_17_x86_64.manylinux2014_x86_64.whl (8.3 MB)\n",
      "\u001b[2K   \u001b[90m━━━━━━━━━━━━━━━━━━━━━━━━━━━━━━━━━━━━━━━━\u001b[0m \u001b[32m8.3/8.3 MB\u001b[0m \u001b[31m156.7 MB/s\u001b[0m eta \u001b[36m0:00:00\u001b[0ma \u001b[36m0:00:01\u001b[0m\n",
      "\u001b[?25hDownloading contourpy-1.2.1-cp310-cp310-manylinux_2_17_x86_64.manylinux2014_x86_64.whl (305 kB)\n",
      "\u001b[2K   \u001b[90m━━━━━━━━━━━━━━━━━━━━━━━━━━━━━━━━━━━━━━━━\u001b[0m \u001b[32m305.2/305.2 kB\u001b[0m \u001b[31m93.7 MB/s\u001b[0m eta \u001b[36m0:00:00\u001b[0m\n",
      "\u001b[?25hDownloading cycler-0.12.1-py3-none-any.whl (8.3 kB)\n",
      "Downloading fonttools-4.52.4-cp310-cp310-manylinux_2_17_x86_64.manylinux2014_x86_64.whl (4.6 MB)\n",
      "\u001b[2K   \u001b[90m━━━━━━━━━━━━━━━━━━━━━━━━━━━━━━━━━━━━━━━━\u001b[0m \u001b[32m4.6/4.6 MB\u001b[0m \u001b[31m119.8 MB/s\u001b[0m eta \u001b[36m0:00:00\u001b[0m00:01\u001b[0m\n",
      "\u001b[?25hDownloading kiwisolver-1.4.5-cp310-cp310-manylinux_2_12_x86_64.manylinux2010_x86_64.whl (1.6 MB)\n",
      "\u001b[2K   \u001b[90m━━━━━━━━━━━━━━━━━━━━━━━━━━━━━━━━━━━━━━━━\u001b[0m \u001b[32m1.6/1.6 MB\u001b[0m \u001b[31m173.1 MB/s\u001b[0m eta \u001b[36m0:00:00\u001b[0m\n",
      "\u001b[?25hDownloading ninja-1.11.1.1-py2.py3-none-manylinux1_x86_64.manylinux_2_5_x86_64.whl (307 kB)\n",
      "\u001b[2K   \u001b[90m━━━━━━━━━━━━━━━━━━━━━━━━━━━━━━━━━━━━━━━\u001b[0m \u001b[32m307.2/307.2 kB\u001b[0m \u001b[31m110.0 MB/s\u001b[0m eta \u001b[36m0:00:00\u001b[0m\n",
      "\u001b[?25hInstalling collected packages: ninja, kiwisolver, fonttools, cycler, contourpy, matplotlib\n",
      "Successfully installed contourpy-1.2.1 cycler-0.12.1 fonttools-4.52.4 kiwisolver-1.4.5 matplotlib-3.9.0 ninja-1.11.1.1\n",
      "\u001b[33mWARNING: Running pip as the 'root' user can result in broken permissions and conflicting behaviour with the system package manager. It is recommended to use a virtual environment instead: https://pip.pypa.io/warnings/venv\u001b[0m\u001b[33m\n",
      "\u001b[0m"
     ]
    }
   ],
   "source": [
    "!pip3 install matplotlib ninja[global]"
   ]
  },
  {
   "cell_type": "code",
   "execution_count": null,
   "metadata": {},
   "outputs": [],
   "source": []
  }
 ],
 "metadata": {
  "kernelspec": {
   "display_name": "Python 3 (ipykernel)",
   "language": "python",
   "name": "python3"
  },
  "language_info": {
   "codemirror_mode": {
    "name": "ipython",
    "version": 3
   },
   "file_extension": ".py",
   "mimetype": "text/x-python",
   "name": "python",
   "nbconvert_exporter": "python",
   "pygments_lexer": "ipython3",
   "version": "3.10.12"
  }
 },
 "nbformat": 4,
 "nbformat_minor": 2
}
