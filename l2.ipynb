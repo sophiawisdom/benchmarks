{
 "cells": [
  {
   "cell_type": "code",
   "execution_count": null,
   "metadata": {},
   "outputs": [],
   "source": [
    "from torch.utils.cpp_extension import load\n",
    "import time\n",
    "bench_l2 = load(name=\"bench_l2\", sources=[\"l2.cpp\", \"l2_partitions.cu\"], extra_cuda_cflags=[\"-arch=sm_89\", \"--keep\", \"--keep-dir\", \"/workspace/benchmark/temp\"], verbose=True)\n",
    "print(bench_l2)\n",
    "global_results, local_results = bench_l2.bench(0, 128, 128, 10)"
   ]
  },
  {
   "cell_type": "code",
   "execution_count": null,
   "metadata": {},
   "outputs": [],
   "source": [
    "import matplotlib.pyplot as plt\n",
    "import torch\n",
    "\n",
    "summed_results = local_results.to(torch.int64).sum(axis=3).sum(axis=0) # sum b/w iterations and warps\n",
    "\n",
    "for i in range(local_results.shape[0]):\n",
    "    # Create the heatmap\n",
    "    plt.figure(figsize=(10, 10))  # Adjust the figure size as needed\n",
    "    plt.imshow(local_results[i].to(torch.int64).sum(axis=2).numpy(), cmap='viridis')  # Choose a colormap that fits your preference\n",
    "    plt.colorbar()  # Adds a colorbar to the side\n",
    "    plt.title('between-SM L2 access latency')\n",
    "    plt.show()"
   ]
  },
  {
   "cell_type": "code",
   "execution_count": null,
   "metadata": {},
   "outputs": [],
   "source": [
    "summed_results[0]\n"
   ]
  },
  {
   "cell_type": "code",
   "execution_count": null,
   "metadata": {},
   "outputs": [],
   "source": [
    "summed_results[:, 1]"
   ]
  },
  {
   "cell_type": "code",
   "execution_count": null,
   "metadata": {},
   "outputs": [],
   "source": [
    "(local_results.sum(axis=3) == 192).sum()"
   ]
  },
  {
   "cell_type": "code",
   "execution_count": null,
   "metadata": {},
   "outputs": [],
   "source": []
  }
 ],
 "metadata": {
  "kernelspec": {
   "display_name": "Python 3",
   "language": "python",
   "name": "python3"
  },
  "language_info": {
   "codemirror_mode": {
    "name": "ipython",
    "version": 3
   },
   "file_extension": ".py",
   "mimetype": "text/x-python",
   "name": "python",
   "nbconvert_exporter": "python",
   "pygments_lexer": "ipython3",
   "version": "3.10.12"
  }
 },
 "nbformat": 4,
 "nbformat_minor": 2
}
